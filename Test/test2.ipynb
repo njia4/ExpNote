{
 "cells": [
  {
   "cell_type": "code",
   "execution_count": 81,
   "metadata": {},
   "outputs": [],
   "source": [
    "### Modifiable Parameters ###\n",
    "TOF = 5."
   ]
  },
  {
   "cell_type": "code",
   "execution_count": 1,
   "metadata": {},
   "outputs": [],
   "source": [
    "### Static ###\n",
    "import numpy as np\n",
    "import matplotlib.pyplot as plt\n",
    "from scipy.optimize import curve_fit\n",
    "\n",
    "GUPPY_Y_PIXEL_SIZE = 5.6e-6\n",
    "GUPPY_MOT_PIXEL_SIZE = 3.75e-6\n",
    "PIXELFLY_PIXEL_SIZE = 6.45e-6\n",
    "K_cross_section = 1.656e-13\n",
    "mK = 6.632e-26\n",
    "mNa = 3.818e-26\n",
    "GuppyY_mag = 1.99 # Camera magnification. Last revised: Jan 2020\n",
    "GuppyMOT_mag = 0.2144 # Camera magnification. Last revised: Jan 2020\n",
    "CAMERAMAG_PIXELFLY = 4.2\n",
    "\n",
    "# 2D Gaussian profile\n",
    "def Gaussian_2D(coordinate, n_atom, x0, y0, sigma_x, sigma_y, offset):\n",
    "    x, y = coordinate\n",
    "    od = 1.*n_atom*K_cross_section/(2.*np.pi*sigma_x*sigma_y)*np.exp(-((x-x0)**2./(2.*(sigma_x**2))+(y-y0)**2./(2.*(sigma_y**2))))+offset\n",
    "    return od\n",
    "\n",
    "column_names = ['T_evap', 'n', 'sigma_x', 'sigma_y']"
   ]
  },
  {
   "cell_type": "code",
   "execution_count": 2,
   "metadata": {},
   "outputs": [
    {
     "name": "stdout",
     "output_type": "stream",
     "text": [
      "Fit with 2D Gaussian profile.\n"
     ]
    }
   ],
   "source": [
    "### Analysis Script ###\n",
    "img_OD = np.loadtxt(data_file)\n",
    "\n",
    "# Convert to real dimension\n",
    "img_scale_factor = (GUPPY_MOT_PIXEL_SIZE/GuppyMOT_mag)\n",
    "dim_x, dim_y = img_OD.shape\n",
    "xx = img_scale_factor*np.linspace(-1.*dim_x/2., dim_x/2, dim_x)\n",
    "yy = img_scale_factor*np.linspace(-1.*dim_y/2., dim_y/2, dim_y)\n",
    "xx, yy = np.meshgrid(xx, yy)\n",
    "print('pre-fit')\n",
    "\n",
    "# 2D fit\n",
    "print(\"Fit with 2D Gaussian profile.\")\n",
    "popt, pcov = curve_fit(Gaussian_2D, (xx.ravel(), yy.ravel()), img_OD.ravel())\n",
    "print(\"Fit finished!\")\n",
    "n_atom  = popt[0]\n",
    "sigma_x = popt[3]\n",
    "sigma_y = popt[4]\n",
    "\n",
    "result['T_evap'] = 0.\n",
    "result['n'] = n_atom\n",
    "result['sigma_x'] = sigma_x\n",
    "result['sigma_y'] = sigma_y"
   ]
  },
  {
   "cell_type": "code",
   "execution_count": null,
   "metadata": {},
   "outputs": [],
   "source": [
    "### Plots ###\n",
    "### 3 ###\n",
    "xx = np.linspace(0., 2.*np.pi, 1000)\n",
    "yy = np.sin(xx+2.*np.pi*np.random.rand())\n",
    "ax.plot(xx, yy)"
   ]
  },
  {
   "cell_type": "code",
   "execution_count": null,
   "metadata": {},
   "outputs": [],
   "source": [
    "### Plots ###\n",
    "### 2 ###\n",
    "xx = np.linspace(0., 2.*np.pi, 1000)\n",
    "yy = np.sin(xx+2.*np.pi*np.random.rand())\n",
    "ax.plot(xx, yy)"
   ]
  },
  {
   "cell_type": "code",
   "execution_count": null,
   "metadata": {},
   "outputs": [],
   "source": [
    "### Plots ###\n",
    "### Projected Density ###\n",
    "xx = np.linspace(0., 2.*np.pi, 1000)\n",
    "yy = np.sin(xx+2.*np.pi*np.random.rand())\n",
    "ax.plot(xx, yy)"
   ]
  },
  {
   "cell_type": "code",
   "execution_count": null,
   "metadata": {},
   "outputs": [],
   "source": [
    "### Plots ###\n",
    "### 1 ###\n",
    "xx = np.linspace(0., 2.*np.pi, 1000)\n",
    "yy = np.sin(xx+2.*np.pi*np.random.rand())\n",
    "ax.plot(xx, yy)"
   ]
  }
 ],
 "metadata": {
  "kernelspec": {
   "display_name": "Python 3",
   "language": "python",
   "name": "python3"
  },
  "language_info": {
   "codemirror_mode": {
    "name": "ipython",
    "version": 3
   },
   "file_extension": ".py",
   "mimetype": "text/x-python",
   "name": "python",
   "nbconvert_exporter": "python",
   "pygments_lexer": "ipython3",
   "version": "3.7.4"
  }
 },
 "nbformat": 4,
 "nbformat_minor": 4
}
